{
  "nbformat": 4,
  "nbformat_minor": 0,
  "metadata": {
    "colab": {
      "name": "consumo-cerveja.ipynb",
      "provenance": [],
      "collapsed_sections": [],
      "authorship_tag": "ABX9TyOuxeCxWG8+nn2uCd1A1LYl"
    },
    "kernelspec": {
      "name": "python3",
      "display_name": "Python 3"
    }
  },
  "cells": [
    {
      "cell_type": "markdown",
      "metadata": {
        "id": "XF0KDByPpcYX",
        "colab_type": "text"
      },
      "source": [
        "# Atividade EM ANDAMENTO - Consumo de cerveja \n",
        "Notebook com a atividade feita pela [@beatrizmilz](https://github.com/beatrizmilz), no Grupo de Estudos de Data Science 2 - PyLadies São Paulo. Apresentar dia 16/02/2020. \n",
        "\n",
        "Instruções: Usando a [base de consumo de cerveja](https://www.kaggle.com/dongeorge/beer-consumption-sao-paulo), disponível no [kaggle](https://www.kaggle.com/), aplique os conceitos apresentados nos capítulos 2 e 3 do livro **[Estatística Básica](https://www.amazon.com.br/Estat%C3%ADstica-B%C3%A1sica-Wilton-Bussab/dp/8547220224)**."
      ]
    },
    {
      "cell_type": "markdown",
      "metadata": {
        "id": "73PPXZtbqeJr",
        "colab_type": "text"
      },
      "source": [
        "## Importar bibliotecas"
      ]
    },
    {
      "cell_type": "code",
      "metadata": {
        "id": "Q0A-AQiahKTB",
        "colab_type": "code",
        "colab": {}
      },
      "source": [
        "\n",
        "import pandas as pd \n",
        "import numpy as np\n",
        "# import datetime\n",
        "import seaborn as sns\n",
        "\n",
        "# !pip install pyjanitor\n",
        "import janitor"
      ],
      "execution_count": 0,
      "outputs": []
    },
    {
      "cell_type": "markdown",
      "metadata": {
        "id": "a8X2z96uqpZV",
        "colab_type": "text"
      },
      "source": [
        "## Fazer download do dataset"
      ]
    },
    {
      "cell_type": "code",
      "metadata": {
        "id": "6SNyz1GqNBfU",
        "colab_type": "code",
        "colab": {}
      },
      "source": [
        "# Para essa etapa é preciso utilizar a API do kaggle. Eu utilizei, mas depois \n",
        "# retirei meus dados e comentei a linha. \n",
        "# Para criar a API, no kaggle clique em \"my account\",\n",
        "# e na seção API clique em \"Create new API token\".\n",
        "# Usar essas credenciais no código abaixo, em \"username\" e \"key\".\n",
        "\n",
        "# !mkdir /root/.kaggle # Cria o diretório .kaggle        \n",
        "# !echo '{\"username\":\"kaggle_username\",\"key\":\"kaggle_key\"}' > chmod 600 /root/.kaggle/kaggle.json\n"
      ],
      "execution_count": 0,
      "outputs": []
    },
    {
      "cell_type": "code",
      "metadata": {
        "id": "bo1wLz7pg6bj",
        "colab_type": "code",
        "colab": {}
      },
      "source": [
        "# Define qual dataset quero baixar, e faz o download\n",
        "# !kaggle datasets download -d dongeorge/beer-consumption-sao-paulo"
      ],
      "execution_count": 0,
      "outputs": []
    },
    {
      "cell_type": "code",
      "metadata": {
        "id": "71UMm_8fjE3r",
        "colab_type": "code",
        "colab": {
          "base_uri": "https://localhost:8080/",
          "height": 35
        },
        "outputId": "bad7761e-8a21-41be-a252-49fdeaa338e5"
      },
      "source": [
        "# Conferir se baixou o beer-consumption-sao-paulo.zip\n",
        "!ls"
      ],
      "execution_count": 3,
      "outputs": [
        {
          "output_type": "stream",
          "text": [
            "beer-consumption-sao-paulo.zip\tchmod  Consumo_cerveja.csv  sample_data\n"
          ],
          "name": "stdout"
        }
      ]
    },
    {
      "cell_type": "code",
      "metadata": {
        "id": "z5A8LLK_jMsD",
        "colab_type": "code",
        "colab": {}
      },
      "source": [
        "# É um zip. Para ter acesso ao .csv, é necessário usar o unzip\n",
        "# !unzip beer-consumption-sao-paulo.zip\n"
      ],
      "execution_count": 0,
      "outputs": []
    },
    {
      "cell_type": "code",
      "metadata": {
        "id": "KX36B21VjcGo",
        "colab_type": "code",
        "colab": {
          "base_uri": "https://localhost:8080/",
          "height": 35
        },
        "outputId": "8ddaa1e1-655b-4882-a005-1b82ee921968"
      },
      "source": [
        "# Conferir se o arquivo .csv está nos arquivos.\n",
        "!ls"
      ],
      "execution_count": 4,
      "outputs": [
        {
          "output_type": "stream",
          "text": [
            "beer-consumption-sao-paulo.zip\tchmod  Consumo_cerveja.csv  sample_data\n"
          ],
          "name": "stdout"
        }
      ]
    },
    {
      "cell_type": "markdown",
      "metadata": {
        "id": "EzvKObpwqv-V",
        "colab_type": "text"
      },
      "source": [
        "## Abrir a base de dados e arrumá-los"
      ]
    },
    {
      "cell_type": "code",
      "metadata": {
        "id": "m1F8TeUihMbE",
        "colab_type": "code",
        "colab": {}
      },
      "source": [
        "# Usando a biblioteca pandas, ler o .csv e atribuir ao dataframe consumo_cerveja\n",
        "#  e limpar os nomes das colunas\n",
        "consumo_cerveja = (pd.read_csv(\"Consumo_cerveja.csv\", decimal=',')\n",
        "                    .clean_names()\n",
        "                   .rename_column(\"temperatura_media_c_\", \"temperatura_media\")\n",
        "                   .rename_column(\"temperatura_minima_c_\", \"temperatura_minima\")\n",
        "                   .rename_column(\"temperatura_maxima_c_\", \"temperatura_maxima\")\n",
        "                   .rename_column(\"precipitacao_mm_\", \"precipitacao\")\n",
        "                   .rename_column(\"consumo_de_cerveja_litros_\", \"consumo_de_cerveja\")\n",
        ")"
      ],
      "execution_count": 0,
      "outputs": []
    },
    {
      "cell_type": "code",
      "metadata": {
        "id": "YGlih6TUj06v",
        "colab_type": "code",
        "colab": {
          "base_uri": "https://localhost:8080/",
          "height": 202
        },
        "outputId": "3781c86e-9cf2-498a-df2b-e10bc270965e"
      },
      "source": [
        "# Função head para ler as primeiras linhas do dataframe\n",
        "consumo_cerveja.head()"
      ],
      "execution_count": 6,
      "outputs": [
        {
          "output_type": "execute_result",
          "data": {
            "text/html": [
              "<div>\n",
              "<style scoped>\n",
              "    .dataframe tbody tr th:only-of-type {\n",
              "        vertical-align: middle;\n",
              "    }\n",
              "\n",
              "    .dataframe tbody tr th {\n",
              "        vertical-align: top;\n",
              "    }\n",
              "\n",
              "    .dataframe thead th {\n",
              "        text-align: right;\n",
              "    }\n",
              "</style>\n",
              "<table border=\"1\" class=\"dataframe\">\n",
              "  <thead>\n",
              "    <tr style=\"text-align: right;\">\n",
              "      <th></th>\n",
              "      <th>data</th>\n",
              "      <th>temperatura_media</th>\n",
              "      <th>temperatura_minima</th>\n",
              "      <th>temperatura_maxima</th>\n",
              "      <th>precipitacao</th>\n",
              "      <th>final_de_semana</th>\n",
              "      <th>consumo_de_cerveja</th>\n",
              "    </tr>\n",
              "  </thead>\n",
              "  <tbody>\n",
              "    <tr>\n",
              "      <th>0</th>\n",
              "      <td>2015-01-01</td>\n",
              "      <td>27.30</td>\n",
              "      <td>23.9</td>\n",
              "      <td>32.5</td>\n",
              "      <td>0.0</td>\n",
              "      <td>0.0</td>\n",
              "      <td>25.461</td>\n",
              "    </tr>\n",
              "    <tr>\n",
              "      <th>1</th>\n",
              "      <td>2015-01-02</td>\n",
              "      <td>27.02</td>\n",
              "      <td>24.5</td>\n",
              "      <td>33.5</td>\n",
              "      <td>0.0</td>\n",
              "      <td>0.0</td>\n",
              "      <td>28.972</td>\n",
              "    </tr>\n",
              "    <tr>\n",
              "      <th>2</th>\n",
              "      <td>2015-01-03</td>\n",
              "      <td>24.82</td>\n",
              "      <td>22.4</td>\n",
              "      <td>29.9</td>\n",
              "      <td>0.0</td>\n",
              "      <td>1.0</td>\n",
              "      <td>30.814</td>\n",
              "    </tr>\n",
              "    <tr>\n",
              "      <th>3</th>\n",
              "      <td>2015-01-04</td>\n",
              "      <td>23.98</td>\n",
              "      <td>21.5</td>\n",
              "      <td>28.6</td>\n",
              "      <td>1.2</td>\n",
              "      <td>1.0</td>\n",
              "      <td>29.799</td>\n",
              "    </tr>\n",
              "    <tr>\n",
              "      <th>4</th>\n",
              "      <td>2015-01-05</td>\n",
              "      <td>23.82</td>\n",
              "      <td>21.0</td>\n",
              "      <td>28.3</td>\n",
              "      <td>0.0</td>\n",
              "      <td>0.0</td>\n",
              "      <td>28.900</td>\n",
              "    </tr>\n",
              "  </tbody>\n",
              "</table>\n",
              "</div>"
            ],
            "text/plain": [
              "         data  temperatura_media  ...  final_de_semana  consumo_de_cerveja\n",
              "0  2015-01-01              27.30  ...              0.0              25.461\n",
              "1  2015-01-02              27.02  ...              0.0              28.972\n",
              "2  2015-01-03              24.82  ...              1.0              30.814\n",
              "3  2015-01-04              23.98  ...              1.0              29.799\n",
              "4  2015-01-05              23.82  ...              0.0              28.900\n",
              "\n",
              "[5 rows x 7 columns]"
            ]
          },
          "metadata": {
            "tags": []
          },
          "execution_count": 6
        }
      ]
    },
    {
      "cell_type": "code",
      "metadata": {
        "id": "bcNH36d1xPUk",
        "colab_type": "code",
        "colab": {
          "base_uri": "https://localhost:8080/",
          "height": 52
        },
        "outputId": "839d83b9-9473-4399-bc3e-c29372d29044"
      },
      "source": [
        "# Quantas observações e variáveis temos nesta base?\n",
        "print(\"Observações:\", consumo_cerveja.shape[0])\n",
        "print(\"Variáveis:\", consumo_cerveja.shape[1])"
      ],
      "execution_count": 7,
      "outputs": [
        {
          "output_type": "stream",
          "text": [
            "Observações: 941\n",
            "Variáveis: 7\n"
          ],
          "name": "stdout"
        }
      ]
    },
    {
      "cell_type": "code",
      "metadata": {
        "id": "lX_Jymdt0-Az",
        "colab_type": "code",
        "colab": {
          "base_uri": "https://localhost:8080/",
          "height": 156
        },
        "outputId": "81ab1329-75a7-4725-e13f-bb7db6b8d91a"
      },
      "source": [
        "# Quais são os tipos de dados?\n",
        "consumo_cerveja.dtypes"
      ],
      "execution_count": 8,
      "outputs": [
        {
          "output_type": "execute_result",
          "data": {
            "text/plain": [
              "data                   object\n",
              "temperatura_media     float64\n",
              "temperatura_minima    float64\n",
              "temperatura_maxima    float64\n",
              "precipitacao          float64\n",
              "final_de_semana       float64\n",
              "consumo_de_cerveja     object\n",
              "dtype: object"
            ]
          },
          "metadata": {
            "tags": []
          },
          "execution_count": 8
        }
      ]
    },
    {
      "cell_type": "code",
      "metadata": {
        "id": "fmKwiqaL0hQI",
        "colab_type": "code",
        "colab": {
          "base_uri": "https://localhost:8080/",
          "height": 156
        },
        "outputId": "a0707921-efad-441b-9e50-daf7d1606b0e"
      },
      "source": [
        "# Algumas variáveis estão com o tipo de dado incorreto. Corrigir isso!\n",
        "\n",
        "consumo_cerveja['consumo_de_cerveja'] = consumo_cerveja['consumo_de_cerveja'].astype(float)\n",
        "\n",
        "consumo_cerveja['final_de_semana'] = consumo_cerveja['final_de_semana'].astype(bool)\n",
        "\n",
        "consumo_cerveja['data'] = pd.to_datetime(consumo_cerveja['data'])\n",
        "\n",
        "consumo_cerveja.dtypes"
      ],
      "execution_count": 9,
      "outputs": [
        {
          "output_type": "execute_result",
          "data": {
            "text/plain": [
              "data                  datetime64[ns]\n",
              "temperatura_media            float64\n",
              "temperatura_minima           float64\n",
              "temperatura_maxima           float64\n",
              "precipitacao                 float64\n",
              "final_de_semana                 bool\n",
              "consumo_de_cerveja           float64\n",
              "dtype: object"
            ]
          },
          "metadata": {
            "tags": []
          },
          "execution_count": 9
        }
      ]
    },
    {
      "cell_type": "markdown",
      "metadata": {
        "id": "xL1MYcOhqzg6",
        "colab_type": "text"
      },
      "source": [
        "## Capítulo 2 - Resumo de dados\n",
        "Conceitos: \n",
        "\n",
        "\n",
        "*   Tipos de variáveis\n",
        "*   Distribuição de frequências\n",
        "*   Gráficos\n",
        "\n"
      ]
    },
    {
      "cell_type": "code",
      "metadata": {
        "id": "imSxe1tsrdyY",
        "colab_type": "code",
        "colab": {
          "base_uri": "https://localhost:8080/",
          "height": 69
        },
        "outputId": "2cead506-6333-442b-8290-2016ef91b9ae"
      },
      "source": [
        "# Quais variáveis temos nesta base de dados?\n",
        "consumo_cerveja.columns"
      ],
      "execution_count": 10,
      "outputs": [
        {
          "output_type": "execute_result",
          "data": {
            "text/plain": [
              "Index(['data', 'temperatura_media', 'temperatura_minima', 'temperatura_maxima',\n",
              "       'precipitacao', 'final_de_semana', 'consumo_de_cerveja'],\n",
              "      dtype='object')"
            ]
          },
          "metadata": {
            "tags": []
          },
          "execution_count": 10
        }
      ]
    },
    {
      "cell_type": "markdown",
      "metadata": {
        "id": "UUZs9cs4BfeI",
        "colab_type": "text"
      },
      "source": [
        "### Tipos de variáveis:\n",
        "\n",
        "\n",
        "* Data: ?\n",
        "* Temperatura (média, mínima, máxima) em graus celsius: variável quantitativa contínua\n",
        "* Precipitação em milimetros: variável quantitativa contínua\n",
        "* Final de semana (sim ou não): variável dicotômica \n",
        "* Consumo de cerveja em litros: variável quantitativa contínua\n",
        "\n"
      ]
    },
    {
      "cell_type": "markdown",
      "metadata": {
        "id": "du83o9KRLG0p",
        "colab_type": "text"
      },
      "source": [
        "### Distribuição de frequências\n"
      ]
    },
    {
      "cell_type": "code",
      "metadata": {
        "id": "R006A2FwOjNC",
        "colab_type": "code",
        "colab": {
          "base_uri": "https://localhost:8080/",
          "height": 447
        },
        "outputId": "ddb7ba37-f452-4af2-9a2a-df68c7441404"
      },
      "source": [
        "# Temperatura mínima\n",
        "\n",
        "temp_cut = [7.5, 10, 12.5, 15, 17.5, 20, 22.5, 25, 27.5, 30, 32.5, 35, 37.5, 40]\n",
        "\n",
        "pd.DataFrame({\"Frequência\":pd.value_counts(\n",
        "    pd.cut(\n",
        "        x = consumo_cerveja[\"temperatura_minima\"],\n",
        "        bins = temp_cut,\n",
        "        include_lowest = True\n",
        "    ),\n",
        "    sort = False\n",
        "), \"Porcentagem (%)\": pd.value_counts(\n",
        "    pd.cut(\n",
        "        x = consumo_cerveja[\"temperatura_minima\"],\n",
        "        bins = temp_cut,\n",
        "        include_lowest = True\n",
        "    ),\n",
        "    sort = False,\n",
        "    normalize = True)* 100   \n",
        "\n",
        "})\n"
      ],
      "execution_count": 31,
      "outputs": [
        {
          "output_type": "execute_result",
          "data": {
            "text/html": [
              "<div>\n",
              "<style scoped>\n",
              "    .dataframe tbody tr th:only-of-type {\n",
              "        vertical-align: middle;\n",
              "    }\n",
              "\n",
              "    .dataframe tbody tr th {\n",
              "        vertical-align: top;\n",
              "    }\n",
              "\n",
              "    .dataframe thead th {\n",
              "        text-align: right;\n",
              "    }\n",
              "</style>\n",
              "<table border=\"1\" class=\"dataframe\">\n",
              "  <thead>\n",
              "    <tr style=\"text-align: right;\">\n",
              "      <th></th>\n",
              "      <th>Frequência</th>\n",
              "      <th>Porcentagem (%)</th>\n",
              "    </tr>\n",
              "  </thead>\n",
              "  <tbody>\n",
              "    <tr>\n",
              "      <th>(7.499, 10.0]</th>\n",
              "      <td>0</td>\n",
              "      <td>0.000000</td>\n",
              "    </tr>\n",
              "    <tr>\n",
              "      <th>(10.0, 12.5]</th>\n",
              "      <td>16</td>\n",
              "      <td>4.383562</td>\n",
              "    </tr>\n",
              "    <tr>\n",
              "      <th>(12.5, 15.0]</th>\n",
              "      <td>67</td>\n",
              "      <td>18.356164</td>\n",
              "    </tr>\n",
              "    <tr>\n",
              "      <th>(15.0, 17.5]</th>\n",
              "      <td>89</td>\n",
              "      <td>24.383562</td>\n",
              "    </tr>\n",
              "    <tr>\n",
              "      <th>(17.5, 20.0]</th>\n",
              "      <td>129</td>\n",
              "      <td>35.342466</td>\n",
              "    </tr>\n",
              "    <tr>\n",
              "      <th>(20.0, 22.5]</th>\n",
              "      <td>56</td>\n",
              "      <td>15.342466</td>\n",
              "    </tr>\n",
              "    <tr>\n",
              "      <th>(22.5, 25.0]</th>\n",
              "      <td>8</td>\n",
              "      <td>2.191781</td>\n",
              "    </tr>\n",
              "    <tr>\n",
              "      <th>(25.0, 27.5]</th>\n",
              "      <td>0</td>\n",
              "      <td>0.000000</td>\n",
              "    </tr>\n",
              "    <tr>\n",
              "      <th>(27.5, 30.0]</th>\n",
              "      <td>0</td>\n",
              "      <td>0.000000</td>\n",
              "    </tr>\n",
              "    <tr>\n",
              "      <th>(30.0, 32.5]</th>\n",
              "      <td>0</td>\n",
              "      <td>0.000000</td>\n",
              "    </tr>\n",
              "    <tr>\n",
              "      <th>(32.5, 35.0]</th>\n",
              "      <td>0</td>\n",
              "      <td>0.000000</td>\n",
              "    </tr>\n",
              "    <tr>\n",
              "      <th>(35.0, 37.5]</th>\n",
              "      <td>0</td>\n",
              "      <td>0.000000</td>\n",
              "    </tr>\n",
              "    <tr>\n",
              "      <th>(37.5, 40.0]</th>\n",
              "      <td>0</td>\n",
              "      <td>0.000000</td>\n",
              "    </tr>\n",
              "  </tbody>\n",
              "</table>\n",
              "</div>"
            ],
            "text/plain": [
              "               Frequência  Porcentagem (%)\n",
              "(7.499, 10.0]           0         0.000000\n",
              "(10.0, 12.5]           16         4.383562\n",
              "(12.5, 15.0]           67        18.356164\n",
              "(15.0, 17.5]           89        24.383562\n",
              "(17.5, 20.0]          129        35.342466\n",
              "(20.0, 22.5]           56        15.342466\n",
              "(22.5, 25.0]            8         2.191781\n",
              "(25.0, 27.5]            0         0.000000\n",
              "(27.5, 30.0]            0         0.000000\n",
              "(30.0, 32.5]            0         0.000000\n",
              "(32.5, 35.0]            0         0.000000\n",
              "(35.0, 37.5]            0         0.000000\n",
              "(37.5, 40.0]            0         0.000000"
            ]
          },
          "metadata": {
            "tags": []
          },
          "execution_count": 31
        }
      ]
    },
    {
      "cell_type": "code",
      "metadata": {
        "id": "ni6qlIOCPBk2",
        "colab_type": "code",
        "colab": {
          "base_uri": "https://localhost:8080/",
          "height": 447
        },
        "outputId": "dc203055-1963-4057-ca04-a49610d1155e"
      },
      "source": [
        "# Temperatura média\n",
        "\n",
        "pd.DataFrame({\"Frequência\":pd.value_counts(\n",
        "    pd.cut(\n",
        "        x = consumo_cerveja[\"temperatura_media\"],\n",
        "        bins = temp_cut,\n",
        "        include_lowest = True\n",
        "    ),\n",
        "    sort = False\n",
        "), \"Porcentagem (%)\": pd.value_counts(\n",
        "    pd.cut(\n",
        "        x = consumo_cerveja[\"temperatura_media\"],\n",
        "        bins = temp_cut,\n",
        "        include_lowest = True\n",
        "    ),\n",
        "    sort = False,\n",
        "    normalize = True)* 100   \n",
        "\n",
        "})"
      ],
      "execution_count": 32,
      "outputs": [
        {
          "output_type": "execute_result",
          "data": {
            "text/html": [
              "<div>\n",
              "<style scoped>\n",
              "    .dataframe tbody tr th:only-of-type {\n",
              "        vertical-align: middle;\n",
              "    }\n",
              "\n",
              "    .dataframe tbody tr th {\n",
              "        vertical-align: top;\n",
              "    }\n",
              "\n",
              "    .dataframe thead th {\n",
              "        text-align: right;\n",
              "    }\n",
              "</style>\n",
              "<table border=\"1\" class=\"dataframe\">\n",
              "  <thead>\n",
              "    <tr style=\"text-align: right;\">\n",
              "      <th></th>\n",
              "      <th>Frequência</th>\n",
              "      <th>Porcentagem (%)</th>\n",
              "    </tr>\n",
              "  </thead>\n",
              "  <tbody>\n",
              "    <tr>\n",
              "      <th>(7.499, 10.0]</th>\n",
              "      <td>0</td>\n",
              "      <td>0.000000</td>\n",
              "    </tr>\n",
              "    <tr>\n",
              "      <th>(10.0, 12.5]</th>\n",
              "      <td>0</td>\n",
              "      <td>0.000000</td>\n",
              "    </tr>\n",
              "    <tr>\n",
              "      <th>(12.5, 15.0]</th>\n",
              "      <td>9</td>\n",
              "      <td>2.465753</td>\n",
              "    </tr>\n",
              "    <tr>\n",
              "      <th>(15.0, 17.5]</th>\n",
              "      <td>48</td>\n",
              "      <td>13.150685</td>\n",
              "    </tr>\n",
              "    <tr>\n",
              "      <th>(17.5, 20.0]</th>\n",
              "      <td>64</td>\n",
              "      <td>17.534247</td>\n",
              "    </tr>\n",
              "    <tr>\n",
              "      <th>(20.0, 22.5]</th>\n",
              "      <td>118</td>\n",
              "      <td>32.328767</td>\n",
              "    </tr>\n",
              "    <tr>\n",
              "      <th>(22.5, 25.0]</th>\n",
              "      <td>86</td>\n",
              "      <td>23.561644</td>\n",
              "    </tr>\n",
              "    <tr>\n",
              "      <th>(25.0, 27.5]</th>\n",
              "      <td>29</td>\n",
              "      <td>7.945205</td>\n",
              "    </tr>\n",
              "    <tr>\n",
              "      <th>(27.5, 30.0]</th>\n",
              "      <td>11</td>\n",
              "      <td>3.013699</td>\n",
              "    </tr>\n",
              "    <tr>\n",
              "      <th>(30.0, 32.5]</th>\n",
              "      <td>0</td>\n",
              "      <td>0.000000</td>\n",
              "    </tr>\n",
              "    <tr>\n",
              "      <th>(32.5, 35.0]</th>\n",
              "      <td>0</td>\n",
              "      <td>0.000000</td>\n",
              "    </tr>\n",
              "    <tr>\n",
              "      <th>(35.0, 37.5]</th>\n",
              "      <td>0</td>\n",
              "      <td>0.000000</td>\n",
              "    </tr>\n",
              "    <tr>\n",
              "      <th>(37.5, 40.0]</th>\n",
              "      <td>0</td>\n",
              "      <td>0.000000</td>\n",
              "    </tr>\n",
              "  </tbody>\n",
              "</table>\n",
              "</div>"
            ],
            "text/plain": [
              "               Frequência  Porcentagem (%)\n",
              "(7.499, 10.0]           0         0.000000\n",
              "(10.0, 12.5]            0         0.000000\n",
              "(12.5, 15.0]            9         2.465753\n",
              "(15.0, 17.5]           48        13.150685\n",
              "(17.5, 20.0]           64        17.534247\n",
              "(20.0, 22.5]          118        32.328767\n",
              "(22.5, 25.0]           86        23.561644\n",
              "(25.0, 27.5]           29         7.945205\n",
              "(27.5, 30.0]           11         3.013699\n",
              "(30.0, 32.5]            0         0.000000\n",
              "(32.5, 35.0]            0         0.000000\n",
              "(35.0, 37.5]            0         0.000000\n",
              "(37.5, 40.0]            0         0.000000"
            ]
          },
          "metadata": {
            "tags": []
          },
          "execution_count": 32
        }
      ]
    },
    {
      "cell_type": "code",
      "metadata": {
        "id": "ssCwlNO8PKBz",
        "colab_type": "code",
        "colab": {
          "base_uri": "https://localhost:8080/",
          "height": 447
        },
        "outputId": "4dfc0b05-2bc9-4f15-e3a8-bfc95025a420"
      },
      "source": [
        "# Temperatura máxima\n",
        "\n",
        "pd.DataFrame({\"Frequência\": pd.value_counts(\n",
        "    pd.cut(\n",
        "        x = consumo_cerveja[\"temperatura_maxima\"],\n",
        "        bins = temp_cut,\n",
        "        include_lowest = True\n",
        "    ),\n",
        "    sort = False\n",
        "), \"Porcentagem (%)\": pd.value_counts(\n",
        "    pd.cut(\n",
        "        x = consumo_cerveja[\"temperatura_maxima\"],\n",
        "        bins = temp_cut,\n",
        "        include_lowest = True\n",
        "    ),\n",
        "    sort = False,\n",
        "    normalize = True)* 100   \n",
        "\n",
        "})"
      ],
      "execution_count": 33,
      "outputs": [
        {
          "output_type": "execute_result",
          "data": {
            "text/html": [
              "<div>\n",
              "<style scoped>\n",
              "    .dataframe tbody tr th:only-of-type {\n",
              "        vertical-align: middle;\n",
              "    }\n",
              "\n",
              "    .dataframe tbody tr th {\n",
              "        vertical-align: top;\n",
              "    }\n",
              "\n",
              "    .dataframe thead th {\n",
              "        text-align: right;\n",
              "    }\n",
              "</style>\n",
              "<table border=\"1\" class=\"dataframe\">\n",
              "  <thead>\n",
              "    <tr style=\"text-align: right;\">\n",
              "      <th></th>\n",
              "      <th>Frequência</th>\n",
              "      <th>Porcentagem (%)</th>\n",
              "    </tr>\n",
              "  </thead>\n",
              "  <tbody>\n",
              "    <tr>\n",
              "      <th>(7.499, 10.0]</th>\n",
              "      <td>0</td>\n",
              "      <td>0.000000</td>\n",
              "    </tr>\n",
              "    <tr>\n",
              "      <th>(10.0, 12.5]</th>\n",
              "      <td>0</td>\n",
              "      <td>0.000000</td>\n",
              "    </tr>\n",
              "    <tr>\n",
              "      <th>(12.5, 15.0]</th>\n",
              "      <td>1</td>\n",
              "      <td>0.273973</td>\n",
              "    </tr>\n",
              "    <tr>\n",
              "      <th>(15.0, 17.5]</th>\n",
              "      <td>5</td>\n",
              "      <td>1.369863</td>\n",
              "    </tr>\n",
              "    <tr>\n",
              "      <th>(17.5, 20.0]</th>\n",
              "      <td>23</td>\n",
              "      <td>6.301370</td>\n",
              "    </tr>\n",
              "    <tr>\n",
              "      <th>(20.0, 22.5]</th>\n",
              "      <td>39</td>\n",
              "      <td>10.684932</td>\n",
              "    </tr>\n",
              "    <tr>\n",
              "      <th>(22.5, 25.0]</th>\n",
              "      <td>56</td>\n",
              "      <td>15.342466</td>\n",
              "    </tr>\n",
              "    <tr>\n",
              "      <th>(25.0, 27.5]</th>\n",
              "      <td>86</td>\n",
              "      <td>23.561644</td>\n",
              "    </tr>\n",
              "    <tr>\n",
              "      <th>(27.5, 30.0]</th>\n",
              "      <td>81</td>\n",
              "      <td>22.191781</td>\n",
              "    </tr>\n",
              "    <tr>\n",
              "      <th>(30.0, 32.5]</th>\n",
              "      <td>40</td>\n",
              "      <td>10.958904</td>\n",
              "    </tr>\n",
              "    <tr>\n",
              "      <th>(32.5, 35.0]</th>\n",
              "      <td>24</td>\n",
              "      <td>6.575342</td>\n",
              "    </tr>\n",
              "    <tr>\n",
              "      <th>(35.0, 37.5]</th>\n",
              "      <td>10</td>\n",
              "      <td>2.739726</td>\n",
              "    </tr>\n",
              "    <tr>\n",
              "      <th>(37.5, 40.0]</th>\n",
              "      <td>0</td>\n",
              "      <td>0.000000</td>\n",
              "    </tr>\n",
              "  </tbody>\n",
              "</table>\n",
              "</div>"
            ],
            "text/plain": [
              "               Frequência  Porcentagem (%)\n",
              "(7.499, 10.0]           0         0.000000\n",
              "(10.0, 12.5]            0         0.000000\n",
              "(12.5, 15.0]            1         0.273973\n",
              "(15.0, 17.5]            5         1.369863\n",
              "(17.5, 20.0]           23         6.301370\n",
              "(20.0, 22.5]           39        10.684932\n",
              "(22.5, 25.0]           56        15.342466\n",
              "(25.0, 27.5]           86        23.561644\n",
              "(27.5, 30.0]           81        22.191781\n",
              "(30.0, 32.5]           40        10.958904\n",
              "(32.5, 35.0]           24         6.575342\n",
              "(35.0, 37.5]           10         2.739726\n",
              "(37.5, 40.0]            0         0.000000"
            ]
          },
          "metadata": {
            "tags": []
          },
          "execution_count": 33
        }
      ]
    },
    {
      "cell_type": "code",
      "metadata": {
        "id": "eU322Wc1LP1P",
        "colab_type": "code",
        "colab": {
          "base_uri": "https://localhost:8080/",
          "height": 202
        },
        "outputId": "7fb34975-a969-4522-da22-7c5d1194d409"
      },
      "source": [
        "# Precipitação\n",
        "pd.DataFrame({\"Frequência\":pd.value_counts(\n",
        "    pd.cut(\n",
        "        x = consumo_cerveja[\"precipitacao\"],\n",
        "        bins = 5,\n",
        "        include_lowest = True\n",
        "    ),\n",
        "    sort = False\n",
        "), \"Porcentagem (%)\": pd.value_counts(\n",
        "    pd.cut(\n",
        "        x = consumo_cerveja[\"precipitacao\"],\n",
        "        bins = 5,\n",
        "        include_lowest = True\n",
        "    ),\n",
        "    sort = False,\n",
        "    normalize = True) * 100\n",
        "})"
      ],
      "execution_count": 14,
      "outputs": [
        {
          "output_type": "execute_result",
          "data": {
            "text/html": [
              "<div>\n",
              "<style scoped>\n",
              "    .dataframe tbody tr th:only-of-type {\n",
              "        vertical-align: middle;\n",
              "    }\n",
              "\n",
              "    .dataframe tbody tr th {\n",
              "        vertical-align: top;\n",
              "    }\n",
              "\n",
              "    .dataframe thead th {\n",
              "        text-align: right;\n",
              "    }\n",
              "</style>\n",
              "<table border=\"1\" class=\"dataframe\">\n",
              "  <thead>\n",
              "    <tr style=\"text-align: right;\">\n",
              "      <th></th>\n",
              "      <th>Frequência</th>\n",
              "      <th>Porcentagem (%)</th>\n",
              "    </tr>\n",
              "  </thead>\n",
              "  <tbody>\n",
              "    <tr>\n",
              "      <th>(-0.0958, 18.96]</th>\n",
              "      <td>330</td>\n",
              "      <td>90.410959</td>\n",
              "    </tr>\n",
              "    <tr>\n",
              "      <th>(18.96, 37.92]</th>\n",
              "      <td>23</td>\n",
              "      <td>6.301370</td>\n",
              "    </tr>\n",
              "    <tr>\n",
              "      <th>(37.92, 56.88]</th>\n",
              "      <td>7</td>\n",
              "      <td>1.917808</td>\n",
              "    </tr>\n",
              "    <tr>\n",
              "      <th>(56.88, 75.84]</th>\n",
              "      <td>2</td>\n",
              "      <td>0.547945</td>\n",
              "    </tr>\n",
              "    <tr>\n",
              "      <th>(75.84, 94.8]</th>\n",
              "      <td>3</td>\n",
              "      <td>0.821918</td>\n",
              "    </tr>\n",
              "  </tbody>\n",
              "</table>\n",
              "</div>"
            ],
            "text/plain": [
              "                  Frequência  Porcentagem (%)\n",
              "(-0.0958, 18.96]         330        90.410959\n",
              "(18.96, 37.92]            23         6.301370\n",
              "(37.92, 56.88]             7         1.917808\n",
              "(56.88, 75.84]             2         0.547945\n",
              "(75.84, 94.8]              3         0.821918"
            ]
          },
          "metadata": {
            "tags": []
          },
          "execution_count": 14
        }
      ]
    },
    {
      "cell_type": "code",
      "metadata": {
        "id": "OuFT057nKd2O",
        "colab_type": "code",
        "colab": {
          "base_uri": "https://localhost:8080/",
          "height": 110
        },
        "outputId": "286d258a-8fb9-400e-804b-af9c4e5a868d"
      },
      "source": [
        "# Final de semana\n",
        "pd.DataFrame({\"Frequência\": consumo_cerveja[\"final_de_semana\"].value_counts(),\n",
        "              \"Porcentagem (%)\": consumo_cerveja[\"final_de_semana\"].value_counts(normalize = True) *100})\n"
      ],
      "execution_count": 15,
      "outputs": [
        {
          "output_type": "execute_result",
          "data": {
            "text/html": [
              "<div>\n",
              "<style scoped>\n",
              "    .dataframe tbody tr th:only-of-type {\n",
              "        vertical-align: middle;\n",
              "    }\n",
              "\n",
              "    .dataframe tbody tr th {\n",
              "        vertical-align: top;\n",
              "    }\n",
              "\n",
              "    .dataframe thead th {\n",
              "        text-align: right;\n",
              "    }\n",
              "</style>\n",
              "<table border=\"1\" class=\"dataframe\">\n",
              "  <thead>\n",
              "    <tr style=\"text-align: right;\">\n",
              "      <th></th>\n",
              "      <th>Frequência</th>\n",
              "      <th>Porcentagem (%)</th>\n",
              "    </tr>\n",
              "  </thead>\n",
              "  <tbody>\n",
              "    <tr>\n",
              "      <th>True</th>\n",
              "      <td>680</td>\n",
              "      <td>72.263549</td>\n",
              "    </tr>\n",
              "    <tr>\n",
              "      <th>False</th>\n",
              "      <td>261</td>\n",
              "      <td>27.736451</td>\n",
              "    </tr>\n",
              "  </tbody>\n",
              "</table>\n",
              "</div>"
            ],
            "text/plain": [
              "       Frequência  Porcentagem (%)\n",
              "True          680        72.263549\n",
              "False         261        27.736451"
            ]
          },
          "metadata": {
            "tags": []
          },
          "execution_count": 15
        }
      ]
    },
    {
      "cell_type": "code",
      "metadata": {
        "id": "3boQU0rFNraR",
        "colab_type": "code",
        "colab": {
          "base_uri": "https://localhost:8080/",
          "height": 447
        },
        "outputId": "084111b8-2804-4ea0-a882-00a74df80b93"
      },
      "source": [
        "# Consumo de cerveja\n",
        "cerveja_cut = [i for i in range(14, 42, 2)]\n",
        "\n",
        "pd.DataFrame({\"Frequência\":pd.value_counts(\n",
        "    pd.cut(\n",
        "        x = consumo_cerveja[\"consumo_de_cerveja\"],\n",
        "        bins = cerveja_cut,\n",
        "        include_lowest = True\n",
        "    ),\n",
        "    sort = False\n",
        "), \"Porcentagem (%)\": pd.value_counts(\n",
        "    pd.cut(\n",
        "        x = consumo_cerveja[\"consumo_de_cerveja\"],\n",
        "        bins = cerveja_cut,\n",
        "        include_lowest = True\n",
        "    ),\n",
        "    sort = False,\n",
        "    normalize = True)* 100\n",
        "})\n"
      ],
      "execution_count": 42,
      "outputs": [
        {
          "output_type": "execute_result",
          "data": {
            "text/html": [
              "<div>\n",
              "<style scoped>\n",
              "    .dataframe tbody tr th:only-of-type {\n",
              "        vertical-align: middle;\n",
              "    }\n",
              "\n",
              "    .dataframe tbody tr th {\n",
              "        vertical-align: top;\n",
              "    }\n",
              "\n",
              "    .dataframe thead th {\n",
              "        text-align: right;\n",
              "    }\n",
              "</style>\n",
              "<table border=\"1\" class=\"dataframe\">\n",
              "  <thead>\n",
              "    <tr style=\"text-align: right;\">\n",
              "      <th></th>\n",
              "      <th>Frequência</th>\n",
              "      <th>Porcentagem (%)</th>\n",
              "    </tr>\n",
              "  </thead>\n",
              "  <tbody>\n",
              "    <tr>\n",
              "      <th>(13.999, 16.0]</th>\n",
              "      <td>2</td>\n",
              "      <td>0.547945</td>\n",
              "    </tr>\n",
              "    <tr>\n",
              "      <th>(16.0, 18.0]</th>\n",
              "      <td>12</td>\n",
              "      <td>3.287671</td>\n",
              "    </tr>\n",
              "    <tr>\n",
              "      <th>(18.0, 20.0]</th>\n",
              "      <td>16</td>\n",
              "      <td>4.383562</td>\n",
              "    </tr>\n",
              "    <tr>\n",
              "      <th>(20.0, 22.0]</th>\n",
              "      <td>60</td>\n",
              "      <td>16.438356</td>\n",
              "    </tr>\n",
              "    <tr>\n",
              "      <th>(22.0, 24.0]</th>\n",
              "      <td>57</td>\n",
              "      <td>15.616438</td>\n",
              "    </tr>\n",
              "    <tr>\n",
              "      <th>(24.0, 26.0]</th>\n",
              "      <td>64</td>\n",
              "      <td>17.534247</td>\n",
              "    </tr>\n",
              "    <tr>\n",
              "      <th>(26.0, 28.0]</th>\n",
              "      <td>48</td>\n",
              "      <td>13.150685</td>\n",
              "    </tr>\n",
              "    <tr>\n",
              "      <th>(28.0, 30.0]</th>\n",
              "      <td>44</td>\n",
              "      <td>12.054795</td>\n",
              "    </tr>\n",
              "    <tr>\n",
              "      <th>(30.0, 32.0]</th>\n",
              "      <td>33</td>\n",
              "      <td>9.041096</td>\n",
              "    </tr>\n",
              "    <tr>\n",
              "      <th>(32.0, 34.0]</th>\n",
              "      <td>20</td>\n",
              "      <td>5.479452</td>\n",
              "    </tr>\n",
              "    <tr>\n",
              "      <th>(34.0, 36.0]</th>\n",
              "      <td>6</td>\n",
              "      <td>1.643836</td>\n",
              "    </tr>\n",
              "    <tr>\n",
              "      <th>(36.0, 38.0]</th>\n",
              "      <td>3</td>\n",
              "      <td>0.821918</td>\n",
              "    </tr>\n",
              "    <tr>\n",
              "      <th>(38.0, 40.0]</th>\n",
              "      <td>0</td>\n",
              "      <td>0.000000</td>\n",
              "    </tr>\n",
              "  </tbody>\n",
              "</table>\n",
              "</div>"
            ],
            "text/plain": [
              "                Frequência  Porcentagem (%)\n",
              "(13.999, 16.0]           2         0.547945\n",
              "(16.0, 18.0]            12         3.287671\n",
              "(18.0, 20.0]            16         4.383562\n",
              "(20.0, 22.0]            60        16.438356\n",
              "(22.0, 24.0]            57        15.616438\n",
              "(24.0, 26.0]            64        17.534247\n",
              "(26.0, 28.0]            48        13.150685\n",
              "(28.0, 30.0]            44        12.054795\n",
              "(30.0, 32.0]            33         9.041096\n",
              "(32.0, 34.0]            20         5.479452\n",
              "(34.0, 36.0]             6         1.643836\n",
              "(36.0, 38.0]             3         0.821918\n",
              "(38.0, 40.0]             0         0.000000"
            ]
          },
          "metadata": {
            "tags": []
          },
          "execution_count": 42
        }
      ]
    },
    {
      "cell_type": "markdown",
      "metadata": {
        "id": "gLaW8mTMXSkw",
        "colab_type": "text"
      },
      "source": [
        "### Gráficos\n"
      ]
    },
    {
      "cell_type": "code",
      "metadata": {
        "id": "ZO-NutqzXU4w",
        "colab_type": "code",
        "colab": {
          "base_uri": "https://localhost:8080/",
          "height": 319
        },
        "outputId": "a7b432c8-0d14-45bd-d1f8-659afa2ae240"
      },
      "source": [
        "sns.distplot(consumo_cerveja[\"consumo_de_cerveja\"]).set_title(\"Distribuição de Frequências - Consumo de cerveja\", fontsize = 18)"
      ],
      "execution_count": 48,
      "outputs": [
        {
          "output_type": "execute_result",
          "data": {
            "text/plain": [
              "Text(0.5, 1.0, 'Distribuição de Frequências - Consumo de cerveja')"
            ]
          },
          "metadata": {
            "tags": []
          },
          "execution_count": 48
        },
        {
          "output_type": "display_data",
          "data": {
            "image/png": "[encoded data removed]",
            "text/plain": [
              "<Figure size 432x288 with 1 Axes>"
            ]
          },
          "metadata": {
            "tags": []
          }
        }
      ]
    },
    {
      "cell_type": "code",
      "metadata": {
        "id": "Nx1r4vFCXejw",
        "colab_type": "code",
        "colab": {
          "base_uri": "https://localhost:8080/",
          "height": 297
        },
        "outputId": "cc079f8f-a185-4958-c325-e33cf5322cce"
      },
      "source": [
        "sns.distplot(consumo_cerveja[\"temperatura_minima\"])"
      ],
      "execution_count": 45,
      "outputs": [
        {
          "output_type": "execute_result",
          "data": {
            "text/plain": [
              "<matplotlib.axes._subplots.AxesSubplot at 0x7fd9d276fda0>"
            ]
          },
          "metadata": {
            "tags": []
          },
          "execution_count": 45
        },
        {
          "output_type": "display_data",
          "data": {
            "image/png": "[encoded data removed]",
            "text/plain": [
              "<Figure size 432x288 with 1 Axes>"
            ]
          },
          "metadata": {
            "tags": []
          }
        }
      ]
    },
    {
      "cell_type": "code",
      "metadata": {
        "id": "_kVr_5hFXuLZ",
        "colab_type": "code",
        "colab": {
          "base_uri": "https://localhost:8080/",
          "height": 297
        },
        "outputId": "810d001c-77fb-4dbc-b815-8e98d1b7dfcd"
      },
      "source": [
        "sns.distplot(consumo_cerveja[\"temperatura_media\"])"
      ],
      "execution_count": 46,
      "outputs": [
        {
          "output_type": "execute_result",
          "data": {
            "text/plain": [
              "<matplotlib.axes._subplots.AxesSubplot at 0x7fd9d29d53c8>"
            ]
          },
          "metadata": {
            "tags": []
          },
          "execution_count": 46
        },
        {
          "output_type": "display_data",
          "data": {
            "image/png": "[encoded data removed]",
            "text/plain": [
              "<Figure size 432x288 with 1 Axes>"
            ]
          },
          "metadata": {
            "tags": []
          }
        }
      ]
    },
    {
      "cell_type": "code",
      "metadata": {
        "id": "LVBX1x_jXunK",
        "colab_type": "code",
        "colab": {
          "base_uri": "https://localhost:8080/",
          "height": 297
        },
        "outputId": "4fd34464-efee-437e-ca9a-24b0531a84ad"
      },
      "source": [
        "sns.distplot(consumo_cerveja[\"temperatura_maxima\"])"
      ],
      "execution_count": 47,
      "outputs": [
        {
          "output_type": "execute_result",
          "data": {
            "text/plain": [
              "<matplotlib.axes._subplots.AxesSubplot at 0x7fd9d2746828>"
            ]
          },
          "metadata": {
            "tags": []
          },
          "execution_count": 47
        },
        {
          "output_type": "display_data",
          "data": {
            "image/png": "[encoded data removed]",
            "text/plain": [
              "<Figure size 432x288 with 1 Axes>"
            ]
          },
          "metadata": {
            "tags": []
          }
        }
      ]
    },
    {
      "cell_type": "markdown",
      "metadata": {
        "colab_type": "text",
        "id": "lNaw7sZBr2_p"
      },
      "source": [
        "## Capítulo 3 - Medidas-resumo\n",
        "Conceitos: \n",
        "\n",
        "\n",
        "*   Medidas de posição: média aritmética, moda, mediana\n",
        "*   Medidas de dispersão: desvio padrão, variância, desvio médio\n",
        "*   Quantis\n",
        "*   Boxplot\n",
        "\n"
      ]
    },
    {
      "cell_type": "markdown",
      "metadata": {
        "id": "so08BhHk_CBv",
        "colab_type": "text"
      },
      "source": [
        "### Calculando as medidas de posição"
      ]
    },
    {
      "cell_type": "code",
      "metadata": {
        "id": "kgnKS5_y0Q4l",
        "colab_type": "code",
        "colab": {
          "base_uri": "https://localhost:8080/",
          "height": 139
        },
        "outputId": "b356a53b-f8b9-4eb5-8d2e-b344ec22aa0b"
      },
      "source": [
        "# Média\n",
        "consumo_cerveja.mean()"
      ],
      "execution_count": 17,
      "outputs": [
        {
          "output_type": "execute_result",
          "data": {
            "text/plain": [
              "temperatura_media     21.226356\n",
              "temperatura_minima    17.461370\n",
              "temperatura_maxima    26.611507\n",
              "precipitacao           5.196712\n",
              "final_de_semana        0.722635\n",
              "consumo_de_cerveja    25.401367\n",
              "dtype: float64"
            ]
          },
          "metadata": {
            "tags": []
          },
          "execution_count": 17
        }
      ]
    },
    {
      "cell_type": "code",
      "metadata": {
        "id": "GAH8CohL0Iez",
        "colab_type": "code",
        "colab": {
          "base_uri": "https://localhost:8080/",
          "height": 139
        },
        "outputId": "909ce19d-f7b0-412c-b2dd-0c19a1df1962"
      },
      "source": [
        "# Mediana\n",
        "consumo_cerveja.median()"
      ],
      "execution_count": 18,
      "outputs": [
        {
          "output_type": "execute_result",
          "data": {
            "text/plain": [
              "temperatura_media     21.380\n",
              "temperatura_minima    17.900\n",
              "temperatura_maxima    26.900\n",
              "precipitacao           0.000\n",
              "final_de_semana        1.000\n",
              "consumo_de_cerveja    24.867\n",
              "dtype: float64"
            ]
          },
          "metadata": {
            "tags": []
          },
          "execution_count": 18
        }
      ]
    },
    {
      "cell_type": "code",
      "metadata": {
        "id": "fVJujiWO0TKP",
        "colab_type": "code",
        "colab": {
          "base_uri": "https://localhost:8080/",
          "height": 141
        },
        "outputId": "64e2a27e-384f-4654-ad61-613f80c76fb9"
      },
      "source": [
        "# Moda \n",
        "consumo_cerveja.mode(numeric_only=True)"
      ],
      "execution_count": 19,
      "outputs": [
        {
          "output_type": "execute_result",
          "data": {
            "text/html": [
              "<div>\n",
              "<style scoped>\n",
              "    .dataframe tbody tr th:only-of-type {\n",
              "        vertical-align: middle;\n",
              "    }\n",
              "\n",
              "    .dataframe tbody tr th {\n",
              "        vertical-align: top;\n",
              "    }\n",
              "\n",
              "    .dataframe thead th {\n",
              "        text-align: right;\n",
              "    }\n",
              "</style>\n",
              "<table border=\"1\" class=\"dataframe\">\n",
              "  <thead>\n",
              "    <tr style=\"text-align: right;\">\n",
              "      <th></th>\n",
              "      <th>temperatura_media</th>\n",
              "      <th>temperatura_minima</th>\n",
              "      <th>temperatura_maxima</th>\n",
              "      <th>precipitacao</th>\n",
              "      <th>final_de_semana</th>\n",
              "      <th>consumo_de_cerveja</th>\n",
              "    </tr>\n",
              "  </thead>\n",
              "  <tbody>\n",
              "    <tr>\n",
              "      <th>0</th>\n",
              "      <td>22.76</td>\n",
              "      <td>18.2</td>\n",
              "      <td>27.2</td>\n",
              "      <td>0.0</td>\n",
              "      <td>True</td>\n",
              "      <td>24.862</td>\n",
              "    </tr>\n",
              "    <tr>\n",
              "      <th>1</th>\n",
              "      <td>24.00</td>\n",
              "      <td>19.3</td>\n",
              "      <td>27.4</td>\n",
              "      <td>NaN</td>\n",
              "      <td>NaN</td>\n",
              "      <td>NaN</td>\n",
              "    </tr>\n",
              "    <tr>\n",
              "      <th>2</th>\n",
              "      <td>NaN</td>\n",
              "      <td>NaN</td>\n",
              "      <td>28.0</td>\n",
              "      <td>NaN</td>\n",
              "      <td>NaN</td>\n",
              "      <td>NaN</td>\n",
              "    </tr>\n",
              "  </tbody>\n",
              "</table>\n",
              "</div>"
            ],
            "text/plain": [
              "   temperatura_media  temperatura_minima  ...  final_de_semana  consumo_de_cerveja\n",
              "0              22.76                18.2  ...             True              24.862\n",
              "1              24.00                19.3  ...              NaN                 NaN\n",
              "2                NaN                 NaN  ...              NaN                 NaN\n",
              "\n",
              "[3 rows x 6 columns]"
            ]
          },
          "metadata": {
            "tags": []
          },
          "execution_count": 19
        }
      ]
    },
    {
      "cell_type": "markdown",
      "metadata": {
        "id": "Rydh2WFe_Pnc",
        "colab_type": "text"
      },
      "source": [
        "Tipos de moda para cada variável:\n",
        "* unimodal: precipitação, final de semana, consumo de cerveja\n",
        "* bimodal: temperatura média, temperatura mínima\n",
        "* trimodal: temperatura máxima\n"
      ]
    },
    {
      "cell_type": "markdown",
      "metadata": {
        "id": "y45RnFfo_gM1",
        "colab_type": "text"
      },
      "source": [
        "### Calculando as medidas de dispersão"
      ]
    },
    {
      "cell_type": "code",
      "metadata": {
        "id": "ubPGPpYb_i8A",
        "colab_type": "code",
        "colab": {
          "base_uri": "https://localhost:8080/",
          "height": 139
        },
        "outputId": "f542b836-40e0-43c6-d492-dcb283701f34"
      },
      "source": [
        "consumo_cerveja.std()"
      ],
      "execution_count": 20,
      "outputs": [
        {
          "output_type": "execute_result",
          "data": {
            "text/plain": [
              "temperatura_media      3.180108\n",
              "temperatura_minima     2.826185\n",
              "temperatura_maxima     4.317366\n",
              "precipitacao          12.417844\n",
              "final_de_semana        0.447936\n",
              "consumo_de_cerveja     4.399143\n",
              "dtype: float64"
            ]
          },
          "metadata": {
            "tags": []
          },
          "execution_count": 20
        }
      ]
    },
    {
      "cell_type": "code",
      "metadata": {
        "id": "qkVuwW2J_s4P",
        "colab_type": "code",
        "colab": {
          "base_uri": "https://localhost:8080/",
          "height": 139
        },
        "outputId": "b0d352cd-2a39-4a9b-ac32-40f91a8e7c4a"
      },
      "source": [
        "consumo_cerveja.var()"
      ],
      "execution_count": 21,
      "outputs": [
        {
          "output_type": "execute_result",
          "data": {
            "text/plain": [
              "temperatura_media      10.113085\n",
              "temperatura_minima      7.987322\n",
              "temperatura_maxima     18.639647\n",
              "precipitacao          154.202846\n",
              "final_de_semana         0.200647\n",
              "consumo_de_cerveja     19.352457\n",
              "dtype: float64"
            ]
          },
          "metadata": {
            "tags": []
          },
          "execution_count": 21
        }
      ]
    },
    {
      "cell_type": "markdown",
      "metadata": {
        "id": "T1wMDE7DAP2D",
        "colab_type": "text"
      },
      "source": [
        "### Calculando os quantis\n"
      ]
    },
    {
      "cell_type": "code",
      "metadata": {
        "id": "BzUnERUeAGzV",
        "colab_type": "code",
        "colab": {
          "base_uri": "https://localhost:8080/",
          "height": 139
        },
        "outputId": "21d2f8af-6bfe-49ab-83e7-e38e053be9ea"
      },
      "source": [
        "consumo_cerveja.quantile(q = 0.25)"
      ],
      "execution_count": 22,
      "outputs": [
        {
          "output_type": "execute_result",
          "data": {
            "text/plain": [
              "temperatura_media     19.020\n",
              "temperatura_minima    15.300\n",
              "temperatura_maxima    23.800\n",
              "precipitacao           0.000\n",
              "final_de_semana        0.000\n",
              "consumo_de_cerveja    22.008\n",
              "Name: 0.25, dtype: float64"
            ]
          },
          "metadata": {
            "tags": []
          },
          "execution_count": 22
        }
      ]
    },
    {
      "cell_type": "code",
      "metadata": {
        "id": "JgITDVzMAVf-",
        "colab_type": "code",
        "colab": {
          "base_uri": "https://localhost:8080/",
          "height": 139
        },
        "outputId": "fc907877-b739-4788-f0d0-140bcda2eaa7"
      },
      "source": [
        "consumo_cerveja.quantile(q = 0.5)"
      ],
      "execution_count": 23,
      "outputs": [
        {
          "output_type": "execute_result",
          "data": {
            "text/plain": [
              "temperatura_media     21.380\n",
              "temperatura_minima    17.900\n",
              "temperatura_maxima    26.900\n",
              "precipitacao           0.000\n",
              "final_de_semana        1.000\n",
              "consumo_de_cerveja    24.867\n",
              "Name: 0.5, dtype: float64"
            ]
          },
          "metadata": {
            "tags": []
          },
          "execution_count": 23
        }
      ]
    },
    {
      "cell_type": "code",
      "metadata": {
        "id": "wouki4cjAVxN",
        "colab_type": "code",
        "colab": {
          "base_uri": "https://localhost:8080/",
          "height": 139
        },
        "outputId": "f94b4a00-7b63-4222-927b-4d5940c52d21"
      },
      "source": [
        "consumo_cerveja.quantile(q = 0.75)"
      ],
      "execution_count": 24,
      "outputs": [
        {
          "output_type": "execute_result",
          "data": {
            "text/plain": [
              "temperatura_media     23.280\n",
              "temperatura_minima    19.600\n",
              "temperatura_maxima    29.400\n",
              "precipitacao           3.200\n",
              "final_de_semana        1.000\n",
              "consumo_de_cerveja    28.631\n",
              "Name: 0.75, dtype: float64"
            ]
          },
          "metadata": {
            "tags": []
          },
          "execution_count": 24
        }
      ]
    },
    {
      "cell_type": "markdown",
      "metadata": {
        "id": "qTazqJyDAfZN",
        "colab_type": "text"
      },
      "source": [
        "### Boxplot\n",
        "- Não fiz da variável final de semana, pois é boolean."
      ]
    },
    {
      "cell_type": "code",
      "metadata": {
        "id": "4iEdMo7WAhr2",
        "colab_type": "code",
        "colab": {
          "base_uri": "https://localhost:8080/",
          "height": 283
        },
        "outputId": "b656eaa1-7f1d-45a3-dcef-0f096e3d8a24"
      },
      "source": [
        "consumo_cerveja.boxplot(column=[\"temperatura_minima\", \"temperatura_media\", \"temperatura_maxima\"])"
      ],
      "execution_count": 25,
      "outputs": [
        {
          "output_type": "execute_result",
          "data": {
            "text/plain": [
              "<matplotlib.axes._subplots.AxesSubplot at 0x7fd9d2f14ac8>"
            ]
          },
          "metadata": {
            "tags": []
          },
          "execution_count": 25
        },
        {
          "output_type": "display_data",
          "data": {
            "image/png": "[encoded data removed]",
            "text/plain": [
              "<Figure size 432x288 with 1 Axes>"
            ]
          },
          "metadata": {
            "tags": []
          }
        }
      ]
    },
    {
      "cell_type": "code",
      "metadata": {
        "id": "tKgWb7DyA5EO",
        "colab_type": "code",
        "colab": {
          "base_uri": "https://localhost:8080/",
          "height": 283
        },
        "outputId": "ae2175e2-0787-4f76-a730-289add83d337"
      },
      "source": [
        "consumo_cerveja.boxplot(column=[\"precipitacao\"])"
      ],
      "execution_count": 26,
      "outputs": [
        {
          "output_type": "execute_result",
          "data": {
            "text/plain": [
              "<matplotlib.axes._subplots.AxesSubplot at 0x7fd9d2f88278>"
            ]
          },
          "metadata": {
            "tags": []
          },
          "execution_count": 26
        },
        {
          "output_type": "display_data",
          "data": {
            "image/png": "[encoded data removed]",
            "text/plain": [
              "<Figure size 432x288 with 1 Axes>"
            ]
          },
          "metadata": {
            "tags": []
          }
        }
      ]
    },
    {
      "cell_type": "code",
      "metadata": {
        "id": "uDxt1plYA-BM",
        "colab_type": "code",
        "colab": {
          "base_uri": "https://localhost:8080/",
          "height": 283
        },
        "outputId": "041c5691-e15f-469e-9136-ca96e49f4b22"
      },
      "source": [
        "consumo_cerveja.boxplot(column=[\"consumo_de_cerveja\"])"
      ],
      "execution_count": 27,
      "outputs": [
        {
          "output_type": "execute_result",
          "data": {
            "text/plain": [
              "<matplotlib.axes._subplots.AxesSubplot at 0x7fd9d2a72fd0>"
            ]
          },
          "metadata": {
            "tags": []
          },
          "execution_count": 27
        },
        {
          "output_type": "display_data",
          "data": {
            "image/png": "[encoded data removed]",
            "text/plain": [
              "<Figure size 432x288 with 1 Axes>"
            ]
          },
          "metadata": {
            "tags": []
          }
        }
      ]
    }
  ]
}