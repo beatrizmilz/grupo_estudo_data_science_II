{
  "nbformat": 4,
  "nbformat_minor": 0,
  "metadata": {
    "colab": {
      "name": "consumo-cerveja.ipynb",
      "provenance": [],
      "authorship_tag": "ABX9TyPno+s3FsUfVX51POkHjy1P",
      "include_colab_link": true
    },
    "kernelspec": {
      "name": "python3",
      "display_name": "Python 3"
    }
  },
  "cells": [
    {
      "cell_type": "markdown",
      "metadata": {
        "id": "view-in-github",
        "colab_type": "text"
      },
      "source": [
        "<a href=\"https://colab.research.google.com/github/beatrizmilz/grupo_estudo_data_science_II/blob/master/consumo_cerveja.ipynb\" target=\"_parent\"><img src=\"https://colab.research.google.com/assets/colab-badge.svg\" alt=\"Open In Colab\"/></a>"
      ]
    },
    {
      "cell_type": "markdown",
      "metadata": {
        "id": "XF0KDByPpcYX",
        "colab_type": "text"
      },
      "source": [
        "# Atividade - Consumo de cerveja \n",
        "Notebook com a atividade feita pela [@beatrizmilz](https://github.com/beatrizmilz), no Grupo de Estudos de Data Science 2 - PyLadies São Paulo. Apresentar dia 16/02/2020. \n",
        "\n",
        "Instruções: Usando a [base de consumo de cerveja](https://www.kaggle.com/dongeorge/beer-consumption-sao-paulo), disponível no [kaggle](https://www.kaggle.com/), aplique os conceitos apresentados nos capítulos 2 e 3 do livro **[Estatística Básica](https://www.amazon.com.br/Estat%C3%ADstica-B%C3%A1sica-Wilton-Bussab/dp/8547220224)**."
      ]
    },
    {
      "cell_type": "markdown",
      "metadata": {
        "id": "73PPXZtbqeJr",
        "colab_type": "text"
      },
      "source": [
        "## Importar bibliotecas"
      ]
    },
    {
      "cell_type": "code",
      "metadata": {
        "id": "Q0A-AQiahKTB",
        "colab_type": "code",
        "colab": {}
      },
      "source": [
        "# Importar bibliotecas\n",
        "import pandas as pd "
      ],
      "execution_count": 0,
      "outputs": []
    },
    {
      "cell_type": "markdown",
      "metadata": {
        "id": "a8X2z96uqpZV",
        "colab_type": "text"
      },
      "source": [
        "## Fazer download do dataset"
      ]
    },
    {
      "cell_type": "code",
      "metadata": {
        "id": "6SNyz1GqNBfU",
        "colab_type": "code",
        "colab": {}
      },
      "source": [
        "# Para essa etapa é preciso utilizar a API do kaggle. Eu utilizei, mas depois \n",
        "# retirei meus dados e comentei a linha. \n",
        "# Para criar a API, no kaggle clique em \"my account\",\n",
        "# e na seção API clique em \"Create new API token\".\n",
        "# Usar essas credenciais no código abaixo, em \"username\" e \"key\".\n",
        "\n",
        "# !mkdir /root/.kaggle # Cria o diretório .kaggle        \n",
        "# !echo '{\"username\":\"kaggle_username\",\"key\":\"kaggle_key\"}' > chmod 600 /root/.kaggle/kaggle.json\n"
      ],
      "execution_count": 0,
      "outputs": []
    },
    {
      "cell_type": "code",
      "metadata": {
        "id": "bo1wLz7pg6bj",
        "colab_type": "code",
        "colab": {}
      },
      "source": [
        "# Define qual dataset quero baixar, e faz o download\n",
        "# !kaggle datasets download -d dongeorge/beer-consumption-sao-paulo"
      ],
      "execution_count": 0,
      "outputs": []
    },
    {
      "cell_type": "code",
      "metadata": {
        "id": "71UMm_8fjE3r",
        "colab_type": "code",
        "colab": {
          "base_uri": "https://localhost:8080/",
          "height": 35
        },
        "outputId": "601a9dbc-ca4f-42a0-925c-37ecb7c29bb9"
      },
      "source": [
        "# Conferir se baixou o beer-consumption-sao-paulo.zip\n",
        "!ls"
      ],
      "execution_count": 3,
      "outputs": [
        {
          "output_type": "stream",
          "text": [
            "beer-consumption-sao-paulo.zip\tchmod  Consumo_cerveja.csv  sample_data\n"
          ],
          "name": "stdout"
        }
      ]
    },
    {
      "cell_type": "code",
      "metadata": {
        "id": "z5A8LLK_jMsD",
        "colab_type": "code",
        "colab": {}
      },
      "source": [
        "# É um zip. Para ter acesso ao .csv, é necessário usar o unzip\n",
        "# !unzip beer-consumption-sao-paulo.zip\n"
      ],
      "execution_count": 0,
      "outputs": []
    },
    {
      "cell_type": "code",
      "metadata": {
        "id": "KX36B21VjcGo",
        "colab_type": "code",
        "colab": {
          "base_uri": "https://localhost:8080/",
          "height": 35
        },
        "outputId": "a288c751-94ae-449d-94da-7edd8d94f7b5"
      },
      "source": [
        "# Conferir se o arquivo .csv está nos arquivos.\n",
        "!ls"
      ],
      "execution_count": 4,
      "outputs": [
        {
          "output_type": "stream",
          "text": [
            "beer-consumption-sao-paulo.zip\tchmod  Consumo_cerveja.csv  sample_data\n"
          ],
          "name": "stdout"
        }
      ]
    },
    {
      "cell_type": "markdown",
      "metadata": {
        "id": "EzvKObpwqv-V",
        "colab_type": "text"
      },
      "source": [
        "## Abrir a base de dados"
      ]
    },
    {
      "cell_type": "code",
      "metadata": {
        "id": "m1F8TeUihMbE",
        "colab_type": "code",
        "colab": {}
      },
      "source": [
        "# Usando a biblioteca pandas, ler o .csv e atribuir ao dataframe consumo_cerveja\n",
        "consumo_cerveja = pd.read_csv(\"Consumo_cerveja.csv\")"
      ],
      "execution_count": 0,
      "outputs": []
    },
    {
      "cell_type": "code",
      "metadata": {
        "id": "YGlih6TUj06v",
        "colab_type": "code",
        "colab": {
          "base_uri": "https://localhost:8080/",
          "height": 202
        },
        "outputId": "5656041b-59ec-4b30-a434-af0229f0b935"
      },
      "source": [
        "# Função head para ler as primeiras linhas do dataframe\n",
        "consumo_cerveja.head()"
      ],
      "execution_count": 6,
      "outputs": [
        {
          "output_type": "execute_result",
          "data": {
            "text/html": [
              "<div>\n",
              "<style scoped>\n",
              "    .dataframe tbody tr th:only-of-type {\n",
              "        vertical-align: middle;\n",
              "    }\n",
              "\n",
              "    .dataframe tbody tr th {\n",
              "        vertical-align: top;\n",
              "    }\n",
              "\n",
              "    .dataframe thead th {\n",
              "        text-align: right;\n",
              "    }\n",
              "</style>\n",
              "<table border=\"1\" class=\"dataframe\">\n",
              "  <thead>\n",
              "    <tr style=\"text-align: right;\">\n",
              "      <th></th>\n",
              "      <th>Data</th>\n",
              "      <th>Temperatura Media (C)</th>\n",
              "      <th>Temperatura Minima (C)</th>\n",
              "      <th>Temperatura Maxima (C)</th>\n",
              "      <th>Precipitacao (mm)</th>\n",
              "      <th>Final de Semana</th>\n",
              "      <th>Consumo de cerveja (litros)</th>\n",
              "    </tr>\n",
              "  </thead>\n",
              "  <tbody>\n",
              "    <tr>\n",
              "      <th>0</th>\n",
              "      <td>2015-01-01</td>\n",
              "      <td>27,3</td>\n",
              "      <td>23,9</td>\n",
              "      <td>32,5</td>\n",
              "      <td>0</td>\n",
              "      <td>0.0</td>\n",
              "      <td>25.461</td>\n",
              "    </tr>\n",
              "    <tr>\n",
              "      <th>1</th>\n",
              "      <td>2015-01-02</td>\n",
              "      <td>27,02</td>\n",
              "      <td>24,5</td>\n",
              "      <td>33,5</td>\n",
              "      <td>0</td>\n",
              "      <td>0.0</td>\n",
              "      <td>28.972</td>\n",
              "    </tr>\n",
              "    <tr>\n",
              "      <th>2</th>\n",
              "      <td>2015-01-03</td>\n",
              "      <td>24,82</td>\n",
              "      <td>22,4</td>\n",
              "      <td>29,9</td>\n",
              "      <td>0</td>\n",
              "      <td>1.0</td>\n",
              "      <td>30.814</td>\n",
              "    </tr>\n",
              "    <tr>\n",
              "      <th>3</th>\n",
              "      <td>2015-01-04</td>\n",
              "      <td>23,98</td>\n",
              "      <td>21,5</td>\n",
              "      <td>28,6</td>\n",
              "      <td>1,2</td>\n",
              "      <td>1.0</td>\n",
              "      <td>29.799</td>\n",
              "    </tr>\n",
              "    <tr>\n",
              "      <th>4</th>\n",
              "      <td>2015-01-05</td>\n",
              "      <td>23,82</td>\n",
              "      <td>21</td>\n",
              "      <td>28,3</td>\n",
              "      <td>0</td>\n",
              "      <td>0.0</td>\n",
              "      <td>28.900</td>\n",
              "    </tr>\n",
              "  </tbody>\n",
              "</table>\n",
              "</div>"
            ],
            "text/plain": [
              "         Data  ... Consumo de cerveja (litros)\n",
              "0  2015-01-01  ...                      25.461\n",
              "1  2015-01-02  ...                      28.972\n",
              "2  2015-01-03  ...                      30.814\n",
              "3  2015-01-04  ...                      29.799\n",
              "4  2015-01-05  ...                      28.900\n",
              "\n",
              "[5 rows x 7 columns]"
            ]
          },
          "metadata": {
            "tags": []
          },
          "execution_count": 6
        }
      ]
    },
    {
      "cell_type": "markdown",
      "metadata": {
        "id": "xL1MYcOhqzg6",
        "colab_type": "text"
      },
      "source": [
        "## Capítulo 2 - Resumo de dados\n",
        "Conceitos: \n",
        "\n",
        "\n",
        "*   Tipos de variáveis\n",
        "*   Distribuição de frequências\n",
        "*   Gráficos\n",
        "\n"
      ]
    },
    {
      "cell_type": "code",
      "metadata": {
        "id": "imSxe1tsrdyY",
        "colab_type": "code",
        "colab": {
          "base_uri": "https://localhost:8080/",
          "height": 156
        },
        "outputId": "f8a1dd7a-e3e4-4192-c632-991b32ed1089"
      },
      "source": [
        "consumo_cerveja.dtypes"
      ],
      "execution_count": 7,
      "outputs": [
        {
          "output_type": "execute_result",
          "data": {
            "text/plain": [
              "Data                            object\n",
              "Temperatura Media (C)           object\n",
              "Temperatura Minima (C)          object\n",
              "Temperatura Maxima (C)          object\n",
              "Precipitacao (mm)               object\n",
              "Final de Semana                float64\n",
              "Consumo de cerveja (litros)    float64\n",
              "dtype: object"
            ]
          },
          "metadata": {
            "tags": []
          },
          "execution_count": 7
        }
      ]
    },
    {
      "cell_type": "markdown",
      "metadata": {
        "colab_type": "text",
        "id": "lNaw7sZBr2_p"
      },
      "source": [
        "## Capítulo 3 - Medidas-resumo\n",
        "Conceitos: \n",
        "\n",
        "\n",
        "*   Medidas de posição: média aritmética, moda, mediana\n",
        "*   Medidas de dispersão: desvio padrão, variância, desvio médio\n",
        "*   Quantis\n",
        "*   Boxplot\n",
        "\n"
      ]
    },
    {
      "cell_type": "code",
      "metadata": {
        "id": "7idVHTSetWn1",
        "colab_type": "code",
        "colab": {
          "base_uri": "https://localhost:8080/",
          "height": 260
        },
        "outputId": "6d1b8eb3-7c53-4e3b-a4f1-258c4a61f885"
      },
      "source": [
        "print(\"Moda da variável T média: \",    consumo_cerveja[\"Temperatura Media (C)\"].mode()) # É uma variável bimodal\n",
        "print(\"Moda da variável T mínima: \",   consumo_cerveja[\"Temperatura Minima (C)\"].mode()) # É uma variável bimodal\n",
        "print(\"Moda da variável T máxima: \",   consumo_cerveja[\"Temperatura Maxima (C)\"].mode()) # É uma variável trimodal\n",
        "print(\"Moda da variável Precipitação: \", consumo_cerveja[\"Precipitacao (mm)\"].mode()) # É uma variável unimodal\n",
        "print(\"Moda da variável Consumo de cerveja: \", consumo_cerveja[\"Consumo de cerveja (litros)\"].mode()) # É uma variável unimodal\n"
      ],
      "execution_count": 19,
      "outputs": [
        {
          "output_type": "stream",
          "text": [
            "Moda da variável T média:  0    22,76\n",
            "1       24\n",
            "dtype: object\n",
            "Moda da variável T mínima:  0    18,2\n",
            "1    19,3\n",
            "dtype: object\n",
            "Moda da variável T máxima:  0    27,2\n",
            "1    27,4\n",
            "2      28\n",
            "dtype: object\n",
            "Moda da variável Precipitação:  0    0\n",
            "dtype: object\n",
            "Moda da variável Consumo de cerveja:  0    24.862\n",
            "dtype: float64\n"
          ],
          "name": "stdout"
        }
      ]
    }
  ]
}